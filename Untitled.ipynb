{
 "cells": [
  {
   "cell_type": "code",
   "execution_count": 21,
   "id": "243b92d0-b11d-4943-8769-229f30dfeeae",
   "metadata": {},
   "outputs": [],
   "source": [
    "import polars as pl\n",
    "import hashlib\n",
    "import random \n",
    "import numpy as np\n",
    "\n",
    "from reedsolo import RSCodec"
   ]
  },
  {
   "cell_type": "code",
   "execution_count": 22,
   "id": "1c5a50f5-3653-4c51-bed2-1c2e674fdba2",
   "metadata": {},
   "outputs": [
    {
     "data": {
      "text/html": [
       "<div><style>\n",
       ".dataframe > thead > tr,\n",
       ".dataframe > tbody > tr {\n",
       "  text-align: right;\n",
       "  white-space: pre-wrap;\n",
       "}\n",
       "</style>\n",
       "<small>shape: (1_000_000, 2)</small><table border=\"1\" class=\"dataframe\"><thead><tr><th>a</th><th>b</th></tr><tr><td>f64</td><td>f64</td></tr></thead><tbody><tr><td>0.370433</td><td>0.441171</td></tr><tr><td>0.249735</td><td>0.004167</td></tr><tr><td>0.155581</td><td>0.911481</td></tr><tr><td>0.258817</td><td>0.469058</td></tr><tr><td>0.202432</td><td>0.079531</td></tr><tr><td>&hellip;</td><td>&hellip;</td></tr><tr><td>0.267498</td><td>0.012573</td></tr><tr><td>0.942848</td><td>0.564259</td></tr><tr><td>0.875712</td><td>0.097122</td></tr><tr><td>0.203738</td><td>0.807445</td></tr><tr><td>0.127119</td><td>0.966277</td></tr></tbody></table></div>"
      ],
      "text/plain": [
       "shape: (1_000_000, 2)\n",
       "┌──────────┬──────────┐\n",
       "│ a        ┆ b        │\n",
       "│ ---      ┆ ---      │\n",
       "│ f64      ┆ f64      │\n",
       "╞══════════╪══════════╡\n",
       "│ 0.370433 ┆ 0.441171 │\n",
       "│ 0.249735 ┆ 0.004167 │\n",
       "│ 0.155581 ┆ 0.911481 │\n",
       "│ 0.258817 ┆ 0.469058 │\n",
       "│ 0.202432 ┆ 0.079531 │\n",
       "│ …        ┆ …        │\n",
       "│ 0.267498 ┆ 0.012573 │\n",
       "│ 0.942848 ┆ 0.564259 │\n",
       "│ 0.875712 ┆ 0.097122 │\n",
       "│ 0.203738 ┆ 0.807445 │\n",
       "│ 0.127119 ┆ 0.966277 │\n",
       "└──────────┴──────────┘"
      ]
     },
     "execution_count": 22,
     "metadata": {},
     "output_type": "execute_result"
    }
   ],
   "source": [
    "# Générer 100000 valeurs aléatoires\n",
    "\n",
    "N = 1_000_000\n",
    "# Créer un DataFrame Polars à partir des données\n",
    "df = pl.DataFrame({\n",
    "    \"a\":  np.random.rand(N),\n",
    "    \"b\":  np.random.rand(N)\n",
    "})\n",
    "\n",
    "df"
   ]
  },
  {
   "cell_type": "code",
   "execution_count": 4,
   "id": "694f9d31-0965-4d2d-8bdf-8c31f8bc04dd",
   "metadata": {},
   "outputs": [
    {
     "data": {
      "text/plain": [
       "1"
      ]
     },
     "execution_count": 4,
     "metadata": {},
     "output_type": "execute_result"
    }
   ],
   "source": [
    "\n",
    "bit_per_line = 2\n",
    "\n",
    "def string_to_bit(text:str):\n",
    "    h = hashlib.md5(text.encode())\n",
    "    binary = h.digest()[0]\n",
    "    binary = binary >> ( 8 - bit_per_line)\n",
    "    return binary\n",
    "\n",
    "\n",
    "string_to_bit(\"hello\")"
   ]
  },
  {
   "cell_type": "code",
   "execution_count": 5,
   "id": "aa0a4682-a791-421d-a1c5-2b39b9fa67df",
   "metadata": {},
   "outputs": [
    {
     "data": {
      "text/html": [
       "<div><style>\n",
       ".dataframe > thead > tr,\n",
       ".dataframe > tbody > tr {\n",
       "  text-align: right;\n",
       "  white-space: pre-wrap;\n",
       "}\n",
       "</style>\n",
       "<small>shape: (1_000_000, 3)</small><table border=\"1\" class=\"dataframe\"><thead><tr><th>a</th><th>b</th><th>bits</th></tr><tr><td>f64</td><td>f64</td><td>u8</td></tr></thead><tbody><tr><td>0.203876</td><td>0.622375</td><td>2</td></tr><tr><td>0.376175</td><td>0.089779</td><td>1</td></tr><tr><td>0.782852</td><td>0.033923</td><td>0</td></tr><tr><td>0.537978</td><td>0.262716</td><td>0</td></tr><tr><td>0.426208</td><td>0.272459</td><td>0</td></tr><tr><td>&hellip;</td><td>&hellip;</td><td>&hellip;</td></tr><tr><td>0.14189</td><td>0.702304</td><td>3</td></tr><tr><td>0.934879</td><td>0.741519</td><td>0</td></tr><tr><td>0.567634</td><td>0.636538</td><td>3</td></tr><tr><td>0.167156</td><td>0.328507</td><td>1</td></tr><tr><td>0.400979</td><td>0.862271</td><td>0</td></tr></tbody></table></div>"
      ],
      "text/plain": [
       "shape: (1_000_000, 3)\n",
       "┌──────────┬──────────┬──────┐\n",
       "│ a        ┆ b        ┆ bits │\n",
       "│ ---      ┆ ---      ┆ ---  │\n",
       "│ f64      ┆ f64      ┆ u8   │\n",
       "╞══════════╪══════════╪══════╡\n",
       "│ 0.203876 ┆ 0.622375 ┆ 2    │\n",
       "│ 0.376175 ┆ 0.089779 ┆ 1    │\n",
       "│ 0.782852 ┆ 0.033923 ┆ 0    │\n",
       "│ 0.537978 ┆ 0.262716 ┆ 0    │\n",
       "│ 0.426208 ┆ 0.272459 ┆ 0    │\n",
       "│ …        ┆ …        ┆ …    │\n",
       "│ 0.14189  ┆ 0.702304 ┆ 3    │\n",
       "│ 0.934879 ┆ 0.741519 ┆ 0    │\n",
       "│ 0.567634 ┆ 0.636538 ┆ 3    │\n",
       "│ 0.167156 ┆ 0.328507 ┆ 1    │\n",
       "│ 0.400979 ┆ 0.862271 ┆ 0    │\n",
       "└──────────┴──────────┴──────┘"
      ]
     },
     "execution_count": 5,
     "metadata": {},
     "output_type": "execute_result"
    }
   ],
   "source": [
    "newdf = df.with_columns(df.cast(pl.String()).sum_horizontal().map_elements(string_to_bit, return_dtype=pl.UInt8).alias(\"bits\"))\n",
    "newdf"
   ]
  },
  {
   "cell_type": "code",
   "execution_count": 7,
   "id": "9c765d57-c617-492a-bfbe-a575bcf2b339",
   "metadata": {},
   "outputs": [],
   "source": [
    "def create_pool(bits:list) ->  dict:\n",
    "    pool = {i: list() for i in range(2**bit_per_line)}\n",
    "    for i, v in enumerate(newdf[\"bits\"].to_list()):\n",
    "        pool[v].append(i)\n",
    "\n",
    "    # for key in pool.keys():\n",
    "    #     random.shuffle(pool[key])\n",
    "    return pool\n",
    "\n"
   ]
  },
  {
   "cell_type": "code",
   "execution_count": 8,
   "id": "718e0797-c463-4de4-ae40-e708842424d6",
   "metadata": {},
   "outputs": [],
   "source": [
    "bit_per_line = 2\n",
    "newdf = df.with_columns(df.cast(pl.String()).sum_horizontal().map_elements(string_to_bit, return_dtype=pl.UInt8).alias(\"bits\"))\n",
    "pool = create_pool(newdf[\"bits\"].to_list())\n"
   ]
  },
  {
   "cell_type": "code",
   "execution_count": 9,
   "id": "ccb5fcaa-860d-4bdd-b8fb-885c9867f418",
   "metadata": {},
   "outputs": [],
   "source": [
    "bit_per_line = 2\n",
    "def encode_bloc(data: bytes, pool: dict) -> list:\n",
    "\n",
    "    indices = []\n",
    "    for byte in data:\n",
    "        mask = 2**(bit_per_line) - 1 \n",
    "        for i in range(0, 8, bit_per_line):\n",
    "            m = mask << i\n",
    "            v = (byte & m) >> i\n",
    "            try:\n",
    "                indices.append(pool[v].pop(0))\n",
    "            except:\n",
    "                raise Exception(\"Not enough bits to encode data \")\n",
    "    return indices\n",
    "\n",
    "pool = create_pool(newdf[\"bits\"].to_list())\n",
    "\n",
    "indices = encode_bloc(b\"hi\", pool)\n"
   ]
  },
  {
   "cell_type": "code",
   "execution_count": 15,
   "id": "343ed525-6e5d-4e1d-984b-ab9d37309e07",
   "metadata": {},
   "outputs": [
    {
     "name": "stdout",
     "output_type": "stream",
     "text": [
      "0b1101000\n",
      "0b1101001\n"
     ]
    }
   ],
   "source": [
    "for i in b\"hi\":\n",
    "    print(bin(i))"
   ]
  },
  {
   "cell_type": "code",
   "execution_count": 23,
   "id": "49572182-e715-40d3-80e2-751eff91f332",
   "metadata": {},
   "outputs": [
    {
     "data": {
      "text/plain": [
       "bytearray(b'hi')"
      ]
     },
     "execution_count": 23,
     "metadata": {},
     "output_type": "execute_result"
    }
   ],
   "source": [
    "bit_per_line = 2\n",
    "def decode_bloc(pool:list) -> bytes:\n",
    "    data = bytearray()\n",
    "    chunk_size = 8 // bit_per_line\n",
    "    \n",
    "    for i in range(0, len(pool), chunk_size):\n",
    "        chunk = pool[i:i + chunk_size]\n",
    "        byte = 0\n",
    "        for j, val in enumerate(chunk):\n",
    "            shift = bit_per_line * (j+1) - bit_per_line\n",
    "            byte |= val << shift\n",
    "        data.append(byte)\n",
    "\n",
    "    return data\n",
    "       \n",
    "decode_bloc(newdf[\"bits\"][indices].to_list()) \n",
    "\n",
    "#decode_bloc([1,0,0,0,0,0,1,0,1,0,1]) \n",
    "\n",
    "    "
   ]
  },
  {
   "cell_type": "code",
   "execution_count": 54,
   "id": "0dac5c85-2fb5-4e59-8d4d-7edb637a18a6",
   "metadata": {},
   "outputs": [
    {
     "name": "stdout",
     "output_type": "stream",
     "text": [
      "bytearray(b'hello, je \\x9d\\xf24h\\xfc\\xfd\\xf8E\\x89\\x05\\xac\\xa8\\xf2\\xfeV$\\x0f\\x86n\\xd2\\x1e\\x80\\x1a8\\x029\\x8a\\xb9\\xf7\\x0c\\\\rv\\x8d\\x14\\xd6,\\xb2k\\xa00xFFFFFFFFFF')\n",
      "bytearray(b'suis sacha\\xf3eq\\x1d\\x8c\\x88\\xe7u\\x0b3&\\xferS5.z$\\x85\\xee\\xea\\x13\\xc1\\xfd\\xa97r\\x1a\\xfd\\xea\\xe3\\x83\\xf4Y\\xb7\\xf1\\xf97\\xb3\\x150xFFFFFFFFFF')\n",
      "bytearray(b', comment \\xba\\xb9\\xd52\\xf4\\xa8\\x80\\xa1\\xd2a\\xdb\\x98\\x18S\\x1eI1+\\xec\\xfb\\xa0\\xdat\\xeaW\\x9a\\xba\\xbc\\xb1\\x95V%\\x92\\x8fuR\\xb3\\xde\\x18\\x100xFFFFFFFFFF')\n",
      "bytearray(b'ca va ?\\xb7r\\xe4\\xf2\\x14U\\xb7%\\xe7p4,\\xc1\\xd4/3E\\xb8\\xc1\\xad\\xc0\\xb2:\\xc6\\x1e\\xd3\\xe2\\xd5d\\xff+\\x02Mo\\xcc\\x12X\\xb7\\xe6\\x0e0xFFFFFFFFFF')\n"
     ]
    }
   ],
   "source": [
    "pool = create_pool(newdf[\"bits\"].to_list())\n",
    "\n",
    "bloc_size = 10\n",
    "corr_size = 40\n",
    "payload = \"hello, je suis sacha, comment ca va ?\"\n",
    "\n",
    "payload = payload.encode()\n",
    "\n",
    "allindices = []\n",
    "for i in range(0, len(payload), bloc_size):\n",
    "    \n",
    "    bloc = payload[i: i + bloc_size]\n",
    "    rsc = RSCodec(corr_size)\n",
    "    bloc = rsc.encode(bloc)\n",
    "    bloc.extend(b'0xFFFFFFFFFF')\n",
    "\n",
    "    print(bloc)\n",
    "    indices = encode_bloc(bloc, pool)\n",
    "    allindices += indices\n",
    "\n",
    "\n",
    "\n"
   ]
  },
  {
   "cell_type": "code",
   "execution_count": 18,
   "id": "85fa5c52-5e90-4208-963a-b0845afede53",
   "metadata": {},
   "outputs": [
    {
     "name": "stdout",
     "output_type": "stream",
     "text": [
      "[1, 2, 3]\n",
      "[4, 3]\n"
     ]
    }
   ],
   "source": [
    "a = {\"a\":[1,2,3], \"b\": [4,3]}\n",
    "\n",
    "for i in a.values():\n",
    "    print(i)\n",
    "    "
   ]
  },
  {
   "cell_type": "code",
   "execution_count": 43,
   "id": "379dc12d-ffb9-4d26-b695-551003ce1ec0",
   "metadata": {},
   "outputs": [],
   "source": [
    "test =  decode_bloc(newdf[allindices][\"bits\"].to_list())"
   ]
  },
  {
   "cell_type": "code",
   "execution_count": 32,
   "id": "2301807f-e060-4a09-9294-e45a1d247cf3",
   "metadata": {},
   "outputs": [],
   "source": [
    "import seaborn as sns"
   ]
  },
  {
   "cell_type": "code",
   "execution_count": 51,
   "id": "87b56ddb-9258-480e-aaf0-80f26c889441",
   "metadata": {},
   "outputs": [
    {
     "data": {
      "text/plain": [
       "'0221112103210321332103200020222111210020131220330130022103331333023311011202110003220222203323332111012033002102232120132310000222100230200012302202123231330300031120312131130201102113032020323221002200300231210121012101210121012101303111311221303100203031102130210221102130331121103113100302020231231131320030302120233320313011113023202231012011022323222330101003133312223130203122101333222330233002013312113132103312333130303211100030023121012101210121012101210103200020302133211321132111212321013100202232123211132030013302220002102220131021321302120210301123101201103032200323323300222213013122233111221222320332103211122111112020123302113120113032231302100010003002312101210121012101210121013021102100202131102100203330313220310123203301101111313211203123003101300320100301133320303011010232100313220003203222302103231030132023111301213333322020001301332103032010021131322123230000300231210121012101210121012101'"
      ]
     },
     "execution_count": 51,
     "metadata": {},
     "output_type": "execute_result"
    }
   ],
   "source": [
    "P = \"\".join([str(i) for i in newdf[allindices][\"bits\"]])\n",
    "\n",
    "P"
   ]
  },
  {
   "cell_type": "code",
   "execution_count": 53,
   "id": "65ec0a12-e15e-42e7-8b04-ce4575102f85",
   "metadata": {},
   "outputs": [
    {
     "name": "stdout",
     "output_type": "stream",
     "text": [
      "bytearray(b'hello, je suis sacha')\n",
      "bytearray(b', comment ca va ?')\n",
      "bytearray(b'')\n"
     ]
    }
   ],
   "source": [
    "rsc = RSCodec(40)\n",
    "for i in test.split(b'0xFFFFFF'):\n",
    "    b = rsc.decode(i)\n",
    "    print(b[0])"
   ]
  },
  {
   "cell_type": "code",
   "execution_count": 19,
   "id": "1d017318-cbed-4576-b256-5768b8dc2045",
   "metadata": {},
   "outputs": [
    {
     "ename": "NameError",
     "evalue": "name 'allindices' is not defined",
     "output_type": "error",
     "traceback": [
      "\u001b[0;31m---------------------------------------------------------------------------\u001b[0m",
      "\u001b[0;31mNameError\u001b[0m                                 Traceback (most recent call last)",
      "Cell \u001b[0;32mIn[19], line 1\u001b[0m\n\u001b[0;32m----> 1\u001b[0m newdf[\u001b[43mallindices\u001b[49m][\u001b[38;5;124m\"\u001b[39m\u001b[38;5;124mbits\u001b[39m\u001b[38;5;124m\"\u001b[39m]\n",
      "\u001b[0;31mNameError\u001b[0m: name 'allindices' is not defined"
     ]
    }
   ],
   "source": [
    "newdf[allindices][\"bits\"]"
   ]
  },
  {
   "cell_type": "code",
   "execution_count": 392,
   "id": "fcf8497d-2afa-40ae-adab-fcf51da6b4cf",
   "metadata": {},
   "outputs": [
    {
     "name": "stdout",
     "output_type": "stream",
     "text": [
      "yes\n",
      "True\n"
     ]
    }
   ],
   "source": [
    "from random import randint\n",
    "\n",
    "for i in range(100):\n",
    "    rsc = RSCodec(200, nsize=250,)\n",
    "    a = rsc.encode([randint(0,6) for i in range(5)])\n",
    "    t = (0x00 in a) \n",
    "    if t :\n",
    "        print(\"yes\")\n",
    "        print(t)\n",
    "        break"
   ]
  },
  {
   "cell_type": "code",
   "execution_count": null,
   "id": "0e733ee5-cb62-4449-8d72-95b72b7f4885",
   "metadata": {},
   "outputs": [],
   "source": []
  }
 ],
 "metadata": {
  "kernelspec": {
   "display_name": "Python 3 (ipykernel)",
   "language": "python",
   "name": "python3"
  },
  "language_info": {
   "codemirror_mode": {
    "name": "ipython",
    "version": 3
   },
   "file_extension": ".py",
   "mimetype": "text/x-python",
   "name": "python",
   "nbconvert_exporter": "python",
   "pygments_lexer": "ipython3",
   "version": "3.11.9"
  }
 },
 "nbformat": 4,
 "nbformat_minor": 5
}
